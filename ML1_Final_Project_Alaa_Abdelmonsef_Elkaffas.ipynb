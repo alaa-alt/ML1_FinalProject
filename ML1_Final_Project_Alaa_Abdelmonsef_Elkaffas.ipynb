{
  "cells": [
    {
      "cell_type": "markdown",
      "metadata": {
        "id": "view-in-github",
        "colab_type": "text"
      },
      "source": [
        "<a href=\"https://colab.research.google.com/github/alaa-alt/ML1_FinalProject/blob/main/ML1_Final_Project_Alaa_Abdelmonsef_Elkaffas.ipynb\" target=\"_parent\"><img src=\"https://colab.research.google.com/assets/colab-badge.svg\" alt=\"Open In Colab\"/></a>"
      ]
    },
    {
      "cell_type": "markdown",
      "metadata": {
        "id": "BoSVlY4LYwhv"
      },
      "source": [
        "# Hand Gesture Classification Using MediaPipe Landmarks from the HaGRID Dataset\n",
        "\n",
        "\n",
        "---\n",
        "\n"
      ]
    },
    {
      "cell_type": "markdown",
      "metadata": {
        "id": "SVvvp2OGaGPP"
      },
      "source": [
        "## 1. Importing necessary libraries"
      ]
    },
    {
      "cell_type": "code",
      "execution_count": null,
      "metadata": {
        "colab": {
          "base_uri": "https://localhost:8080/"
        },
        "id": "tmrNJXeRzQas",
        "outputId": "8ea394d5-339e-4f6e-b86e-0fd97333e7b6"
      },
      "outputs": [
        {
          "name": "stdout",
          "output_type": "stream",
          "text": [
            "Requirement already satisfied: mediapipe in c:\\users\\alaa6\\anaconda3\\lib\\site-packages (0.10.21)\n",
            "Requirement already satisfied: absl-py in c:\\users\\alaa6\\anaconda3\\lib\\site-packages (from mediapipe) (2.2.1)\n",
            "Requirement already satisfied: attrs>=19.1.0 in c:\\users\\alaa6\\anaconda3\\lib\\site-packages (from mediapipe) (25.1.0)\n",
            "Requirement already satisfied: flatbuffers>=2.0 in c:\\users\\alaa6\\anaconda3\\lib\\site-packages (from mediapipe) (25.2.10)\n",
            "Requirement already satisfied: jax in c:\\users\\alaa6\\anaconda3\\lib\\site-packages (from mediapipe) (0.5.3)\n",
            "Requirement already satisfied: jaxlib in c:\\users\\alaa6\\anaconda3\\lib\\site-packages (from mediapipe) (0.5.3)\n",
            "Requirement already satisfied: matplotlib in c:\\users\\alaa6\\anaconda3\\lib\\site-packages (from mediapipe) (3.9.2)\n",
            "Requirement already satisfied: numpy<2 in c:\\users\\alaa6\\anaconda3\\lib\\site-packages (from mediapipe) (1.26.0)\n",
            "Requirement already satisfied: opencv-contrib-python in c:\\users\\alaa6\\anaconda3\\lib\\site-packages (from mediapipe) (4.11.0.86)\n",
            "Requirement already satisfied: protobuf<5,>=4.25.3 in c:\\users\\alaa6\\anaconda3\\lib\\site-packages (from mediapipe) (4.25.6)\n",
            "Requirement already satisfied: sounddevice>=0.4.4 in c:\\users\\alaa6\\anaconda3\\lib\\site-packages (from mediapipe) (0.5.1)\n",
            "Requirement already satisfied: sentencepiece in c:\\users\\alaa6\\anaconda3\\lib\\site-packages (from mediapipe) (0.2.0)\n",
            "Requirement already satisfied: CFFI>=1.0 in c:\\users\\alaa6\\anaconda3\\lib\\site-packages (from sounddevice>=0.4.4->mediapipe) (1.16.0)\n",
            "Requirement already satisfied: ml_dtypes>=0.4.0 in c:\\users\\alaa6\\anaconda3\\lib\\site-packages (from jax->mediapipe) (0.5.1)\n",
            "Requirement already satisfied: opt_einsum in c:\\users\\alaa6\\anaconda3\\lib\\site-packages (from jax->mediapipe) (3.4.0)\n",
            "Requirement already satisfied: scipy>=1.11.1 in c:\\users\\alaa6\\anaconda3\\lib\\site-packages (from jax->mediapipe) (1.13.1)\n",
            "Requirement already satisfied: contourpy>=1.0.1 in c:\\users\\alaa6\\anaconda3\\lib\\site-packages (from matplotlib->mediapipe) (1.2.0)\n",
            "Requirement already satisfied: cycler>=0.10 in c:\\users\\alaa6\\anaconda3\\lib\\site-packages (from matplotlib->mediapipe) (0.11.0)\n",
            "Requirement already satisfied: fonttools>=4.22.0 in c:\\users\\alaa6\\anaconda3\\lib\\site-packages (from matplotlib->mediapipe) (4.51.0)\n",
            "Requirement already satisfied: kiwisolver>=1.3.1 in c:\\users\\alaa6\\anaconda3\\lib\\site-packages (from matplotlib->mediapipe) (1.4.4)\n",
            "Requirement already satisfied: packaging>=20.0 in c:\\users\\alaa6\\anaconda3\\lib\\site-packages (from matplotlib->mediapipe) (23.2)\n",
            "Requirement already satisfied: pillow>=8 in c:\\users\\alaa6\\anaconda3\\lib\\site-packages (from matplotlib->mediapipe) (10.3.0)\n",
            "Requirement already satisfied: pyparsing>=2.3.1 in c:\\users\\alaa6\\anaconda3\\lib\\site-packages (from matplotlib->mediapipe) (3.0.9)\n",
            "Requirement already satisfied: python-dateutil>=2.7 in c:\\users\\alaa6\\anaconda3\\lib\\site-packages (from matplotlib->mediapipe) (2.9.0.post0)\n",
            "Requirement already satisfied: pycparser in c:\\users\\alaa6\\anaconda3\\lib\\site-packages (from CFFI>=1.0->sounddevice>=0.4.4->mediapipe) (2.21)\n",
            "Requirement already satisfied: six>=1.5 in c:\\users\\alaa6\\anaconda3\\lib\\site-packages (from python-dateutil>=2.7->matplotlib->mediapipe) (1.16.0)\n"
          ]
        }
      ],
      "source": [
        "!pip install mediapipe"
      ]
    },
    {
      "cell_type": "code",
      "execution_count": null,
      "metadata": {
        "id": "jdquw-66YvQ7"
      },
      "outputs": [],
      "source": [
        "import numpy as np\n",
        "import pandas as pd\n",
        "import matplotlib.pyplot as plt\n",
        "import mediapipe as mp\n",
        "import seaborn as sns\n",
        "from sklearn.preprocessing import LabelEncoder\n",
        "from sklearn.model_selection import train_test_split\n",
        "from sklearn.linear_model import LogisticRegression\n",
        "from sklearn.tree import DecisionTreeClassifier\n",
        "from sklearn.svm import SVC\n",
        "from sklearn.ensemble import RandomForestClassifier\n",
        "from sklearn.ensemble import GradientBoostingClassifier\n",
        "from sklearn.ensemble import AdaBoostClassifier\n",
        "from sklearn.metrics import f1_score\n",
        "from sklearn.metrics import precision_score\n",
        "from sklearn.metrics import recall_score\n",
        "import joblib\n",
        "from sklearn.metrics import confusion_matrix\n",
        "import cv2\n",
        "from sklearn.metrics import accuracy_score\n",
        "import json\n",
        "from collections import Counter"
      ]
    },
    {
      "cell_type": "markdown",
      "metadata": {
        "id": "A6eeWusibHs8"
      },
      "source": [
        "## 2. Data loading"
      ]
    },
    {
      "cell_type": "code",
      "execution_count": null,
      "metadata": {
        "colab": {
          "base_uri": "https://localhost:8080/",
          "height": 342
        },
        "id": "sARPRHNbawl5",
        "outputId": "ae90d62a-8344-4339-b4a1-84012a02ffa2"
      },
      "outputs": [
        {
          "data": {
            "application/vnd.microsoft.datawrangler.viewer.v0+json": {
              "columns": [
                {
                  "name": "index",
                  "rawType": "int64",
                  "type": "integer"
                },
                {
                  "name": "x1",
                  "rawType": "float64",
                  "type": "float"
                },
                {
                  "name": "y1",
                  "rawType": "float64",
                  "type": "float"
                },
                {
                  "name": "z1",
                  "rawType": "float64",
                  "type": "float"
                },
                {
                  "name": "x2",
                  "rawType": "float64",
                  "type": "float"
                },
                {
                  "name": "y2",
                  "rawType": "float64",
                  "type": "float"
                },
                {
                  "name": "z2",
                  "rawType": "float64",
                  "type": "float"
                },
                {
                  "name": "x3",
                  "rawType": "float64",
                  "type": "float"
                },
                {
                  "name": "y3",
                  "rawType": "float64",
                  "type": "float"
                },
                {
                  "name": "z3",
                  "rawType": "float64",
                  "type": "float"
                },
                {
                  "name": "x4",
                  "rawType": "float64",
                  "type": "float"
                },
                {
                  "name": "y4",
                  "rawType": "float64",
                  "type": "float"
                },
                {
                  "name": "z4",
                  "rawType": "float64",
                  "type": "float"
                },
                {
                  "name": "x5",
                  "rawType": "float64",
                  "type": "float"
                },
                {
                  "name": "y5",
                  "rawType": "float64",
                  "type": "float"
                },
                {
                  "name": "z5",
                  "rawType": "float64",
                  "type": "float"
                },
                {
                  "name": "x6",
                  "rawType": "float64",
                  "type": "float"
                },
                {
                  "name": "y6",
                  "rawType": "float64",
                  "type": "float"
                },
                {
                  "name": "z6",
                  "rawType": "float64",
                  "type": "float"
                },
                {
                  "name": "x7",
                  "rawType": "float64",
                  "type": "float"
                },
                {
                  "name": "y7",
                  "rawType": "float64",
                  "type": "float"
                },
                {
                  "name": "z7",
                  "rawType": "float64",
                  "type": "float"
                },
                {
                  "name": "x8",
                  "rawType": "float64",
                  "type": "float"
                },
                {
                  "name": "y8",
                  "rawType": "float64",
                  "type": "float"
                },
                {
                  "name": "z8",
                  "rawType": "float64",
                  "type": "float"
                },
                {
                  "name": "x9",
                  "rawType": "float64",
                  "type": "float"
                },
                {
                  "name": "y9",
                  "rawType": "float64",
                  "type": "float"
                },
                {
                  "name": "z9",
                  "rawType": "float64",
                  "type": "float"
                },
                {
                  "name": "x10",
                  "rawType": "float64",
                  "type": "float"
                },
                {
                  "name": "y10",
                  "rawType": "float64",
                  "type": "float"
                },
                {
                  "name": "z10",
                  "rawType": "float64",
                  "type": "float"
                },
                {
                  "name": "x11",
                  "rawType": "float64",
                  "type": "float"
                },
                {
                  "name": "y11",
                  "rawType": "float64",
                  "type": "float"
                },
                {
                  "name": "z11",
                  "rawType": "float64",
                  "type": "float"
                },
                {
                  "name": "x12",
                  "rawType": "float64",
                  "type": "float"
                },
                {
                  "name": "y12",
                  "rawType": "float64",
                  "type": "float"
                },
                {
                  "name": "z12",
                  "rawType": "float64",
                  "type": "float"
                },
                {
                  "name": "x13",
                  "rawType": "float64",
                  "type": "float"
                },
                {
                  "name": "y13",
                  "rawType": "float64",
                  "type": "float"
                },
                {
                  "name": "z13",
                  "rawType": "float64",
                  "type": "float"
                },
                {
                  "name": "x14",
                  "rawType": "float64",
                  "type": "float"
                },
                {
                  "name": "y14",
                  "rawType": "float64",
                  "type": "float"
                },
                {
                  "name": "z14",
                  "rawType": "float64",
                  "type": "float"
                },
                {
                  "name": "x15",
                  "rawType": "float64",
                  "type": "float"
                },
                {
                  "name": "y15",
                  "rawType": "float64",
                  "type": "float"
                },
                {
                  "name": "z15",
                  "rawType": "float64",
                  "type": "float"
                },
                {
                  "name": "x16",
                  "rawType": "float64",
                  "type": "float"
                },
                {
                  "name": "y16",
                  "rawType": "float64",
                  "type": "float"
                },
                {
                  "name": "z16",
                  "rawType": "float64",
                  "type": "float"
                },
                {
                  "name": "x17",
                  "rawType": "float64",
                  "type": "float"
                },
                {
                  "name": "y17",
                  "rawType": "float64",
                  "type": "float"
                },
                {
                  "name": "z17",
                  "rawType": "float64",
                  "type": "float"
                },
                {
                  "name": "x18",
                  "rawType": "float64",
                  "type": "float"
                },
                {
                  "name": "y18",
                  "rawType": "float64",
                  "type": "float"
                },
                {
                  "name": "z18",
                  "rawType": "float64",
                  "type": "float"
                },
                {
                  "name": "x19",
                  "rawType": "float64",
                  "type": "float"
                },
                {
                  "name": "y19",
                  "rawType": "float64",
                  "type": "float"
                },
                {
                  "name": "z19",
                  "rawType": "float64",
                  "type": "float"
                },
                {
                  "name": "x20",
                  "rawType": "float64",
                  "type": "float"
                },
                {
                  "name": "y20",
                  "rawType": "float64",
                  "type": "float"
                },
                {
                  "name": "z20",
                  "rawType": "float64",
                  "type": "float"
                },
                {
                  "name": "x21",
                  "rawType": "float64",
                  "type": "float"
                },
                {
                  "name": "y21",
                  "rawType": "float64",
                  "type": "float"
                },
                {
                  "name": "z21",
                  "rawType": "float64",
                  "type": "float"
                },
                {
                  "name": "label",
                  "rawType": "object",
                  "type": "string"
                }
              ],
              "conversionMethod": "pd.DataFrame",
              "ref": "f13f12af-747f-44c5-b843-5674aa1f7614",
              "rows": [
                [
                  "0",
                  "262.6699676513672",
                  "257.3049011230469",
                  "-3.64920452966544e-07",
                  "257.41754150390625",
                  "247.1090545654297",
                  "0.0042237476445734",
                  "246.8829574584961",
                  "241.71682739257807",
                  "0.0057977186515927",
                  "236.3845367431641",
                  "241.45391845703125",
                  "0.0058723376132547",
                  "230.07666778564453",
                  "243.9475250244141",
                  "0.005235728342086",
                  "238.1301498413086",
                  "233.23419189453125",
                  "0.0001538419892312",
                  "225.65279388427732",
                  "247.24920654296875",
                  "-0.0038132877089083",
                  "226.0569305419922",
                  "255.86636352539065",
                  "-0.0067534446716308",
                  "228.15989685058597",
                  "260.3841552734375",
                  "-0.007798527367413",
                  "236.8824920654297",
                  "238.0523376464844",
                  "-0.0049553476274013",
                  "226.1133270263672",
                  "252.7126617431641",
                  "-0.0100969513878226",
                  "229.43167877197263",
                  "260.4510803222656",
                  "-0.0141078727319836",
                  "232.641357421875",
                  "265.2489624023437",
                  "-0.0168535485863685",
                  "236.29305267333984",
                  "244.31765747070312",
                  "-0.0095284366980195",
                  "225.1112594604492",
                  "256.2142028808594",
                  "-0.0161939579993486",
                  "227.39014434814453",
                  "263.6491394042969",
                  "-0.0207014009356498",
                  "230.75440979003903",
                  "268.06951904296875",
                  "-0.0231420192867517",
                  "236.5125274658203",
                  "251.7061767578125",
                  "-0.0131983514875173",
                  "223.3450927734375",
                  "255.49069213867188",
                  "-0.020449724048376",
                  "215.0433654785156",
                  "258.11474609375",
                  "-0.024577360600233",
                  "208.0063934326172",
                  "259.6086730957031",
                  "-0.0267223622649908",
                  "call"
                ],
                [
                  "1",
                  "83.35177803039551",
                  "346.0591125488281",
                  "-2.345265244230177e-07",
                  "81.9250373840332",
                  "328.5623474121094",
                  "-0.0111024668440222",
                  "90.08013153076172",
                  "311.5352478027344",
                  "-0.0210961289703845",
                  "95.6418228149414",
                  "298.8606262207031",
                  "-0.0292518995702266",
                  "94.4703598022461",
                  "287.2987670898437",
                  "-0.0347433798015117",
                  "108.3497085571289",
                  "308.0937194824219",
                  "-0.0223315935581922",
                  "126.62339401245116",
                  "317.4618530273437",
                  "-0.0334945209324359",
                  "120.43669509887695",
                  "321.91387939453125",
                  "-0.0398108325898647",
                  "113.51629257202148",
                  "320.96795654296875",
                  "-0.0449897721409797",
                  "112.6614990234375",
                  "318.3789367675781",
                  "-0.0240378025919199",
                  "126.47074127197266",
                  "326.5800476074219",
                  "-0.0324378572404384",
                  "119.04658126831056",
                  "329.8160705566406",
                  "-0.0338108018040657",
                  "114.1834945678711",
                  "329.2301940917969",
                  "-0.0366102159023284",
                  "115.03302383422852",
                  "330.22174072265625",
                  "-0.026222463697195",
                  "129.40127563476562",
                  "335.1433410644531",
                  "-0.0349423624575138",
                  "123.79751586914062",
                  "337.12841796875",
                  "-0.0300805177539587",
                  "118.56138610839844",
                  "336.64794921875",
                  "-0.0275606904178857",
                  "116.24507904052734",
                  "341.9477844238281",
                  "-0.0290422216057777",
                  "132.45161819458008",
                  "341.79443359375",
                  "-0.0381749682128429",
                  "142.7735824584961",
                  "342.8292541503906",
                  "-0.037336029112339",
                  "152.43169784545898",
                  "343.0159912109375",
                  "-0.0361358150839805",
                  "call"
                ],
                [
                  "2",
                  "187.75697708129883",
                  "260.2354921102524",
                  "-2.417307314317441e-07",
                  "195.46057891845703",
                  "241.50603505969048",
                  "-0.0001839070610003",
                  "207.25952911376956",
                  "223.67433938384056",
                  "-0.0096870781853795",
                  "215.4136276245117",
                  "209.03536024689677",
                  "-0.0205798111855983",
                  "214.7728729248047",
                  "196.60958817601204",
                  "-0.0294967461377382",
                  "227.154052734375",
                  "225.576851695776",
                  "-0.0168974585831165",
                  "245.39041900634768",
                  "237.8628860414028",
                  "-0.0238514486700296",
                  "239.4041519165039",
                  "244.40874230861664",
                  "-0.0242412202060222",
                  "232.02381134033203",
                  "244.86519849300385",
                  "-0.0242147259414196",
                  "229.5819854736328",
                  "237.32902371883392",
                  "-0.0255326405167579",
                  "245.67384338378903",
                  "248.8094104528427",
                  "-0.0298637840896844",
                  "238.76900482177732",
                  "254.63809418678284",
                  "-0.0276489183306694",
                  "231.8528823852539",
                  "253.99557584524155",
                  "-0.0274999178946018",
                  "230.3250732421875",
                  "251.0936636030674",
                  "-0.0335840731859207",
                  "246.59197998046875",
                  "260.49035292863846",
                  "-0.03889786824584",
                  "240.0983047485352",
                  "265.28008514642715",
                  "-0.0333440937101841",
                  "233.0254669189453",
                  "264.50547337532043",
                  "-0.0302340798079967",
                  "230.1001739501953",
                  "265.58417522907257",
                  "-0.041255809366703",
                  "250.30101013183597",
                  "268.6029381752014",
                  "-0.0440682023763656",
                  "262.42513275146484",
                  "271.27663761377335",
                  "-0.040469080209732",
                  "272.98995208740234",
                  "272.27223068475723",
                  "-0.0383005328476429",
                  "call"
                ],
                [
                  "3",
                  "114.9766960144043",
                  "331.59423828125",
                  "-1.233261173183564e-07",
                  "114.50349426269533",
                  "320.5499572753906",
                  "-0.0028239805251359",
                  "116.63662719726562",
                  "310.0809936523437",
                  "-0.0089114857837557",
                  "117.68506622314452",
                  "301.8741149902344",
                  "-0.0150292422622442",
                  "116.76660919189452",
                  "294.9778137207031",
                  "-0.0195144806057214",
                  "129.77703094482422",
                  "308.5011291503906",
                  "-0.0104129640385508",
                  "139.6358184814453",
                  "310.1517333984375",
                  "-0.0164967849850654",
                  "136.3974494934082",
                  "312.7457580566406",
                  "-0.0200818590819835",
                  "131.87408065795898",
                  "313.205322265625",
                  "-0.0231512710452079",
                  "132.9631118774414",
                  "315.03955078125",
                  "-0.0141327064484357",
                  "141.76293182373047",
                  "315.94384765625",
                  "-0.01830898784101",
                  "138.5368537902832",
                  "317.7239685058594",
                  "-0.0192280579358339",
                  "134.9684944152832",
                  "319.06463623046875",
                  "-0.0213867165148258",
                  "134.8447608947754",
                  "322.039794921875",
                  "-0.0178366061300039",
                  "143.29308700561523",
                  "322.0259094238281",
                  "-0.0217074304819107",
                  "140.61356735229492",
                  "323.3251953125",
                  "-0.0184063632041215",
                  "137.04356002807617",
                  "324.4078063964844",
                  "-0.0172914862632751",
                  "135.4858360290527",
                  "329.05010986328125",
                  "-0.0218038540333509",
                  "145.19544982910156",
                  "329.3575439453125",
                  "-0.0276219435036182",
                  "151.0531997680664",
                  "329.7123413085937",
                  "-0.0278630964457988",
                  "155.99036407470703",
                  "329.548828125",
                  "-0.0277231764048337",
                  "call"
                ],
                [
                  "4",
                  "188.7952880859375",
                  "141.72786712646484",
                  "-1.6229952848334508e-07",
                  "188.5209045410156",
                  "127.9474639892578",
                  "-0.0028841085731983",
                  "191.98287963867188",
                  "111.01056289672852",
                  "-0.0081152822822332",
                  "192.55252075195312",
                  "98.68769073486328",
                  "-0.0133969103917479",
                  "188.23956298828125",
                  "90.39428901672365",
                  "-0.017483277246356",
                  "202.82748413085935",
                  "110.82658767700195",
                  "-0.0130078988149762",
                  "219.39035034179688",
                  "112.39216232299805",
                  "-0.0198433138430118",
                  "215.7336578369141",
                  "117.42511367797852",
                  "-0.0224051102995872",
                  "210.2297821044922",
                  "118.63121795654295",
                  "-0.0242628492414951",
                  "206.3397521972656",
                  "118.62936401367188",
                  "-0.0160285178571939",
                  "221.15560913085935",
                  "120.21125793457033",
                  "-0.0216815918684005",
                  "217.21556091308597",
                  "124.3733367919922",
                  "-0.0223501529544591",
                  "212.06491088867188",
                  "125.1862678527832",
                  "-0.0237312838435173",
                  "209.8296661376953",
                  "126.97826385498048",
                  "-0.018825527280569",
                  "223.5951385498047",
                  "127.6962890625",
                  "-0.0239066425710916",
                  "219.6521148681641",
                  "130.91719436645508",
                  "-0.0209778733551502",
                  "214.07122802734372",
                  "131.50262832641602",
                  "-0.0193230044096708",
                  "213.10581970214844",
                  "135.2932090759277",
                  "-0.0216230582445859",
                  "226.69639587402344",
                  "132.26324844360352",
                  "-0.025112822651863",
                  "234.8317413330078",
                  "130.68414688110352",
                  "-0.0240874253213405",
                  "241.5877685546875",
                  "128.47718811035156",
                  "-0.0234860554337501",
                  "call"
                ]
              ],
              "shape": {
                "columns": 64,
                "rows": 5
              }
            },
            "text/html": [
              "<div>\n",
              "<style scoped>\n",
              "    .dataframe tbody tr th:only-of-type {\n",
              "        vertical-align: middle;\n",
              "    }\n",
              "\n",
              "    .dataframe tbody tr th {\n",
              "        vertical-align: top;\n",
              "    }\n",
              "\n",
              "    .dataframe thead th {\n",
              "        text-align: right;\n",
              "    }\n",
              "</style>\n",
              "<table border=\"1\" class=\"dataframe\">\n",
              "  <thead>\n",
              "    <tr style=\"text-align: right;\">\n",
              "      <th></th>\n",
              "      <th>x1</th>\n",
              "      <th>y1</th>\n",
              "      <th>z1</th>\n",
              "      <th>x2</th>\n",
              "      <th>y2</th>\n",
              "      <th>z2</th>\n",
              "      <th>x3</th>\n",
              "      <th>y3</th>\n",
              "      <th>z3</th>\n",
              "      <th>x4</th>\n",
              "      <th>...</th>\n",
              "      <th>x19</th>\n",
              "      <th>y19</th>\n",
              "      <th>z19</th>\n",
              "      <th>x20</th>\n",
              "      <th>y20</th>\n",
              "      <th>z20</th>\n",
              "      <th>x21</th>\n",
              "      <th>y21</th>\n",
              "      <th>z21</th>\n",
              "      <th>label</th>\n",
              "    </tr>\n",
              "  </thead>\n",
              "  <tbody>\n",
              "    <tr>\n",
              "      <th>0</th>\n",
              "      <td>262.669968</td>\n",
              "      <td>257.304901</td>\n",
              "      <td>-3.649205e-07</td>\n",
              "      <td>257.417542</td>\n",
              "      <td>247.109055</td>\n",
              "      <td>0.004224</td>\n",
              "      <td>246.882957</td>\n",
              "      <td>241.716827</td>\n",
              "      <td>0.005798</td>\n",
              "      <td>236.384537</td>\n",
              "      <td>...</td>\n",
              "      <td>223.345093</td>\n",
              "      <td>255.490692</td>\n",
              "      <td>-0.020450</td>\n",
              "      <td>215.043365</td>\n",
              "      <td>258.114746</td>\n",
              "      <td>-0.024577</td>\n",
              "      <td>208.006393</td>\n",
              "      <td>259.608673</td>\n",
              "      <td>-0.026722</td>\n",
              "      <td>call</td>\n",
              "    </tr>\n",
              "    <tr>\n",
              "      <th>1</th>\n",
              "      <td>83.351778</td>\n",
              "      <td>346.059113</td>\n",
              "      <td>-2.345265e-07</td>\n",
              "      <td>81.925037</td>\n",
              "      <td>328.562347</td>\n",
              "      <td>-0.011102</td>\n",
              "      <td>90.080132</td>\n",
              "      <td>311.535248</td>\n",
              "      <td>-0.021096</td>\n",
              "      <td>95.641823</td>\n",
              "      <td>...</td>\n",
              "      <td>132.451618</td>\n",
              "      <td>341.794434</td>\n",
              "      <td>-0.038175</td>\n",
              "      <td>142.773582</td>\n",
              "      <td>342.829254</td>\n",
              "      <td>-0.037336</td>\n",
              "      <td>152.431698</td>\n",
              "      <td>343.015991</td>\n",
              "      <td>-0.036136</td>\n",
              "      <td>call</td>\n",
              "    </tr>\n",
              "    <tr>\n",
              "      <th>2</th>\n",
              "      <td>187.756977</td>\n",
              "      <td>260.235492</td>\n",
              "      <td>-2.417307e-07</td>\n",
              "      <td>195.460579</td>\n",
              "      <td>241.506035</td>\n",
              "      <td>-0.000184</td>\n",
              "      <td>207.259529</td>\n",
              "      <td>223.674339</td>\n",
              "      <td>-0.009687</td>\n",
              "      <td>215.413628</td>\n",
              "      <td>...</td>\n",
              "      <td>250.301010</td>\n",
              "      <td>268.602938</td>\n",
              "      <td>-0.044068</td>\n",
              "      <td>262.425133</td>\n",
              "      <td>271.276638</td>\n",
              "      <td>-0.040469</td>\n",
              "      <td>272.989952</td>\n",
              "      <td>272.272231</td>\n",
              "      <td>-0.038301</td>\n",
              "      <td>call</td>\n",
              "    </tr>\n",
              "    <tr>\n",
              "      <th>3</th>\n",
              "      <td>114.976696</td>\n",
              "      <td>331.594238</td>\n",
              "      <td>-1.233261e-07</td>\n",
              "      <td>114.503494</td>\n",
              "      <td>320.549957</td>\n",
              "      <td>-0.002824</td>\n",
              "      <td>116.636627</td>\n",
              "      <td>310.080994</td>\n",
              "      <td>-0.008911</td>\n",
              "      <td>117.685066</td>\n",
              "      <td>...</td>\n",
              "      <td>145.195450</td>\n",
              "      <td>329.357544</td>\n",
              "      <td>-0.027622</td>\n",
              "      <td>151.053200</td>\n",
              "      <td>329.712341</td>\n",
              "      <td>-0.027863</td>\n",
              "      <td>155.990364</td>\n",
              "      <td>329.548828</td>\n",
              "      <td>-0.027723</td>\n",
              "      <td>call</td>\n",
              "    </tr>\n",
              "    <tr>\n",
              "      <th>4</th>\n",
              "      <td>188.795288</td>\n",
              "      <td>141.727867</td>\n",
              "      <td>-1.622995e-07</td>\n",
              "      <td>188.520905</td>\n",
              "      <td>127.947464</td>\n",
              "      <td>-0.002884</td>\n",
              "      <td>191.982880</td>\n",
              "      <td>111.010563</td>\n",
              "      <td>-0.008115</td>\n",
              "      <td>192.552521</td>\n",
              "      <td>...</td>\n",
              "      <td>226.696396</td>\n",
              "      <td>132.263248</td>\n",
              "      <td>-0.025113</td>\n",
              "      <td>234.831741</td>\n",
              "      <td>130.684147</td>\n",
              "      <td>-0.024087</td>\n",
              "      <td>241.587769</td>\n",
              "      <td>128.477188</td>\n",
              "      <td>-0.023486</td>\n",
              "      <td>call</td>\n",
              "    </tr>\n",
              "  </tbody>\n",
              "</table>\n",
              "<p>5 rows × 64 columns</p>\n",
              "</div>"
            ],
            "text/plain": [
              "           x1          y1            z1          x2          y2        z2  \\\n",
              "0  262.669968  257.304901 -3.649205e-07  257.417542  247.109055  0.004224   \n",
              "1   83.351778  346.059113 -2.345265e-07   81.925037  328.562347 -0.011102   \n",
              "2  187.756977  260.235492 -2.417307e-07  195.460579  241.506035 -0.000184   \n",
              "3  114.976696  331.594238 -1.233261e-07  114.503494  320.549957 -0.002824   \n",
              "4  188.795288  141.727867 -1.622995e-07  188.520905  127.947464 -0.002884   \n",
              "\n",
              "           x3          y3        z3          x4  ...         x19         y19  \\\n",
              "0  246.882957  241.716827  0.005798  236.384537  ...  223.345093  255.490692   \n",
              "1   90.080132  311.535248 -0.021096   95.641823  ...  132.451618  341.794434   \n",
              "2  207.259529  223.674339 -0.009687  215.413628  ...  250.301010  268.602938   \n",
              "3  116.636627  310.080994 -0.008911  117.685066  ...  145.195450  329.357544   \n",
              "4  191.982880  111.010563 -0.008115  192.552521  ...  226.696396  132.263248   \n",
              "\n",
              "        z19         x20         y20       z20         x21         y21  \\\n",
              "0 -0.020450  215.043365  258.114746 -0.024577  208.006393  259.608673   \n",
              "1 -0.038175  142.773582  342.829254 -0.037336  152.431698  343.015991   \n",
              "2 -0.044068  262.425133  271.276638 -0.040469  272.989952  272.272231   \n",
              "3 -0.027622  151.053200  329.712341 -0.027863  155.990364  329.548828   \n",
              "4 -0.025113  234.831741  130.684147 -0.024087  241.587769  128.477188   \n",
              "\n",
              "        z21  label  \n",
              "0 -0.026722   call  \n",
              "1 -0.036136   call  \n",
              "2 -0.038301   call  \n",
              "3 -0.027723   call  \n",
              "4 -0.023486   call  \n",
              "\n",
              "[5 rows x 64 columns]"
            ]
          },
          "execution_count": 2,
          "metadata": {},
          "output_type": "execute_result"
        }
      ],
      "source": [
        "url = \"https://media.githubusercontent.com/media/alaa-alt/ML1_FinalProject/refs/heads/main/hand_landmarks_data.csv\"\n",
        "df = pd.read_csv(url)\n",
        "df.head()\n"
      ]
    },
    {
      "cell_type": "code",
      "execution_count": null,
      "metadata": {
        "colab": {
          "base_uri": "https://localhost:8080/"
        },
        "id": "QRZyc6KBmg6f",
        "outputId": "09a242d0-c5bb-4d29-d9d5-4f61c65188fd"
      },
      "outputs": [
        {
          "data": {
            "text/plain": [
              "Index(['x1', 'y1', 'z1', 'x2', 'y2', 'z2', 'x3', 'y3', 'z3', 'x4', 'y4', 'z4',\n",
              "       'x5', 'y5', 'z5', 'x6', 'y6', 'z6', 'x7', 'y7', 'z7', 'x8', 'y8', 'z8',\n",
              "       'x9', 'y9', 'z9', 'x10', 'y10', 'z10', 'x11', 'y11', 'z11', 'x12',\n",
              "       'y12', 'z12', 'x13', 'y13', 'z13', 'x14', 'y14', 'z14', 'x15', 'y15',\n",
              "       'z15', 'x16', 'y16', 'z16', 'x17', 'y17', 'z17', 'x18', 'y18', 'z18',\n",
              "       'x19', 'y19', 'z19', 'x20', 'y20', 'z20', 'x21', 'y21', 'z21', 'label'],\n",
              "      dtype='object')"
            ]
          },
          "execution_count": 4,
          "metadata": {},
          "output_type": "execute_result"
        }
      ],
      "source": [
        "df.columns"
      ]
    },
    {
      "cell_type": "markdown",
      "metadata": {
        "id": "8JcN9yHQkUxN"
      },
      "source": [
        "## 3. Data Visualization"
      ]
    },
    {
      "cell_type": "code",
      "execution_count": null,
      "metadata": {
        "colab": {
          "base_uri": "https://localhost:8080/"
        },
        "id": "-AnFhE-5kmBp",
        "outputId": "f8b6286b-3aed-4238-eb57-fecfe92fd612"
      },
      "outputs": [
        {
          "data": {
            "text/plain": [
              "False"
            ]
          },
          "execution_count": 5,
          "metadata": {},
          "output_type": "execute_result"
        }
      ],
      "source": [
        "df.isnull().values.any()"
      ]
    },
    {
      "cell_type": "code",
      "execution_count": null,
      "metadata": {
        "colab": {
          "base_uri": "https://localhost:8080/",
          "height": 458
        },
        "id": "PhSS9tpDiwc1",
        "outputId": "9fef1727-8ff3-4939-c9d2-f56032753b1d"
      },
      "outputs": [
        {
          "data": {
            "text/plain": [
              "x1       float64\n",
              "y1       float64\n",
              "z1       float64\n",
              "x2       float64\n",
              "y2       float64\n",
              "          ...   \n",
              "z20      float64\n",
              "x21      float64\n",
              "y21      float64\n",
              "z21      float64\n",
              "label     object\n",
              "Length: 64, dtype: object"
            ]
          },
          "execution_count": 6,
          "metadata": {},
          "output_type": "execute_result"
        }
      ],
      "source": [
        "df.dtypes"
      ]
    },
    {
      "cell_type": "code",
      "execution_count": null,
      "metadata": {
        "colab": {
          "base_uri": "https://localhost:8080/"
        },
        "id": "LJK7L9mklHK4",
        "outputId": "1c8b2b91-39f3-4056-cb50-52bcd93ee0e5"
      },
      "outputs": [
        {
          "data": {
            "text/plain": [
              "0"
            ]
          },
          "execution_count": 7,
          "metadata": {},
          "output_type": "execute_result"
        }
      ],
      "source": [
        "df.duplicated().sum()"
      ]
    },
    {
      "cell_type": "code",
      "execution_count": null,
      "metadata": {
        "colab": {
          "base_uri": "https://localhost:8080/"
        },
        "id": "1i-CwwRpfWfU",
        "outputId": "e0b0f36f-4032-4041-8c9d-24b3246a24fe"
      },
      "outputs": [
        {
          "name": "stdout",
          "output_type": "stream",
          "text": [
            "<class 'pandas.core.frame.DataFrame'>\n",
            "RangeIndex: 25675 entries, 0 to 25674\n",
            "Data columns (total 64 columns):\n",
            " #   Column  Non-Null Count  Dtype  \n",
            "---  ------  --------------  -----  \n",
            " 0   x1      25675 non-null  float64\n",
            " 1   y1      25675 non-null  float64\n",
            " 2   z1      25675 non-null  float64\n",
            " 3   x2      25675 non-null  float64\n",
            " 4   y2      25675 non-null  float64\n",
            " 5   z2      25675 non-null  float64\n",
            " 6   x3      25675 non-null  float64\n",
            " 7   y3      25675 non-null  float64\n",
            " 8   z3      25675 non-null  float64\n",
            " 9   x4      25675 non-null  float64\n",
            " 10  y4      25675 non-null  float64\n",
            " 11  z4      25675 non-null  float64\n",
            " 12  x5      25675 non-null  float64\n",
            " 13  y5      25675 non-null  float64\n",
            " 14  z5      25675 non-null  float64\n",
            " 15  x6      25675 non-null  float64\n",
            " 16  y6      25675 non-null  float64\n",
            " 17  z6      25675 non-null  float64\n",
            " 18  x7      25675 non-null  float64\n",
            " 19  y7      25675 non-null  float64\n",
            " 20  z7      25675 non-null  float64\n",
            " 21  x8      25675 non-null  float64\n",
            " 22  y8      25675 non-null  float64\n",
            " 23  z8      25675 non-null  float64\n",
            " 24  x9      25675 non-null  float64\n",
            " 25  y9      25675 non-null  float64\n",
            " 26  z9      25675 non-null  float64\n",
            " 27  x10     25675 non-null  float64\n",
            " 28  y10     25675 non-null  float64\n",
            " 29  z10     25675 non-null  float64\n",
            " 30  x11     25675 non-null  float64\n",
            " 31  y11     25675 non-null  float64\n",
            " 32  z11     25675 non-null  float64\n",
            " 33  x12     25675 non-null  float64\n",
            " 34  y12     25675 non-null  float64\n",
            " 35  z12     25675 non-null  float64\n",
            " 36  x13     25675 non-null  float64\n",
            " 37  y13     25675 non-null  float64\n",
            " 38  z13     25675 non-null  float64\n",
            " 39  x14     25675 non-null  float64\n",
            " 40  y14     25675 non-null  float64\n",
            " 41  z14     25675 non-null  float64\n",
            " 42  x15     25675 non-null  float64\n",
            " 43  y15     25675 non-null  float64\n",
            " 44  z15     25675 non-null  float64\n",
            " 45  x16     25675 non-null  float64\n",
            " 46  y16     25675 non-null  float64\n",
            " 47  z16     25675 non-null  float64\n",
            " 48  x17     25675 non-null  float64\n",
            " 49  y17     25675 non-null  float64\n",
            " 50  z17     25675 non-null  float64\n",
            " 51  x18     25675 non-null  float64\n",
            " 52  y18     25675 non-null  float64\n",
            " 53  z18     25675 non-null  float64\n",
            " 54  x19     25675 non-null  float64\n",
            " 55  y19     25675 non-null  float64\n",
            " 56  z19     25675 non-null  float64\n",
            " 57  x20     25675 non-null  float64\n",
            " 58  y20     25675 non-null  float64\n",
            " 59  z20     25675 non-null  float64\n",
            " 60  x21     25675 non-null  float64\n",
            " 61  y21     25675 non-null  float64\n",
            " 62  z21     25675 non-null  float64\n",
            " 63  label   25675 non-null  object \n",
            "dtypes: float64(63), object(1)\n",
            "memory usage: 12.5+ MB\n"
          ]
        }
      ],
      "source": [
        "df.info()"
      ]
    },
    {
      "cell_type": "markdown",
      "metadata": {
        "id": "qsJLBEUEtJCs"
      },
      "source": [
        "### a. Showing landmarks connections from mediapipe"
      ]
    },
    {
      "cell_type": "code",
      "execution_count": null,
      "metadata": {
        "id": "8Zzsohz4mTGI"
      },
      "outputs": [],
      "source": [
        "mp_hands = mp.solutions.hands\n",
        "connections = list(mp_hands.HAND_CONNECTIONS)"
      ]
    },
    {
      "cell_type": "markdown",
      "metadata": {
        "id": "XoOM7XUNmKGO"
      },
      "source": [
        "### b. Choosing random samples to show"
      ]
    },
    {
      "cell_type": "code",
      "execution_count": null,
      "metadata": {
        "id": "4MdjS0KBlUIg"
      },
      "outputs": [],
      "source": [
        "num_samples = 5\n",
        "samples = df.sample(n=num_samples, random_state=42)"
      ]
    },
    {
      "cell_type": "markdown",
      "metadata": {
        "id": "8kr-qsOBnA8R"
      },
      "source": [
        "### c. Landmarks of hand and plotting them"
      ]
    },
    {
      "cell_type": "code",
      "execution_count": null,
      "metadata": {
        "colab": {
          "base_uri": "https://localhost:8080/",
          "height": 325
        },
        "id": "oQ8cTmZFnHuk",
        "outputId": "d4a8a129-8b71-4bc3-ac27-00b4c6d0f0f9"
      },
      "outputs": [
        {
          "data": {
            "image/png": "[encoded data removed]",
            "text/plain": [
              "<Figure size 2500x500 with 5 Axes>"
            ]
          },
          "metadata": {},
          "output_type": "display_data"
        }
      ],
      "source": [
        "fig, axes = plt.subplots(1, num_samples, figsize=(5 * num_samples, 5))\n",
        "if num_samples == 1:\n",
        "    axes = [axes]\n",
        "\n",
        "for i, (index, row) in enumerate(samples.iterrows()):\n",
        "    landmarks_x = [row[f\"x{j}\"] for j in range(1, 22)]\n",
        "    landmarks_y = [row[f\"y{j}\"] for j in range(1, 22)]\n",
        "\n",
        "    # Plot MediaPipe connections\n",
        "    for connection in connections:\n",
        "        x_values = [landmarks_x[connection[0]], landmarks_x[connection[1]]]\n",
        "        y_values = [landmarks_y[connection[0]], landmarks_y[connection[1]]]\n",
        "        axes[i].plot(x_values, y_values, 'g-', linewidth=2)\n",
        "\n",
        "    # Plot keypoints\n",
        "    axes[i].scatter(landmarks_x, landmarks_y, c='red', s=100)\n",
        "    axes[i].invert_yaxis()\n",
        "    axes[i].set_title(f\"Sample {index} - Label: {row['label']}\")\n",
        "    axes[i].axis(\"off\")\n",
        "\n",
        "plt.show()"
      ]
    },
    {
      "cell_type": "markdown",
      "metadata": {
        "id": "OGWIXtTSQda6"
      },
      "source": [
        "## 4. Hand landmark normalization"
      ]
    },
    {
      "cell_type": "code",
      "execution_count": null,
      "metadata": {
        "id": "hNqmxDx2t8Py"
      },
      "outputs": [],
      "source": [
        "def normalize_landmarks(df):\n",
        "    df = df.copy()  # Copy to avoid modifying original data\n",
        "\n",
        "    ### Wrist coordinates\n",
        "    x_wrist, y_wrist = df[\"x1\"], df[\"y1\"]\n",
        "\n",
        "    ### Middle finger tip coordinates\n",
        "    x_tip, y_tip = df[\"x13\"], df[\"y13\"]\n",
        "\n",
        "    ### Compute scale factor\n",
        "    scale = np.sqrt((x_tip - x_wrist) ** 2 + (y_tip - y_wrist) ** 2)\n",
        "    scale = np.maximum(scale, 1e-6)\n",
        "\n",
        "    ### Normalize all x, y coordinates\n",
        "    for j in range(1, 22):\n",
        "        df[f\"x{j}\"] = (df[f\"x{j}\"] - x_wrist) / scale\n",
        "        df[f\"y{j}\"] = (df[f\"y{j}\"] - y_wrist) / scale\n",
        "\n",
        "    return df\n",
        "\n",
        "# Apply the function\n",
        "df = normalize_landmarks(df)\n"
      ]
    },
    {
      "cell_type": "code",
      "execution_count": null,
      "metadata": {
        "colab": {
          "base_uri": "https://localhost:8080/",
          "height": 342
        },
        "id": "J2HfasonRCv5",
        "outputId": "fc668049-1fba-4823-f592-f911bebd7a95"
      },
      "outputs": [
        {
          "data": {
            "application/vnd.microsoft.datawrangler.viewer.v0+json": {
              "columns": [
                {
                  "name": "index",
                  "rawType": "int64",
                  "type": "integer"
                },
                {
                  "name": "x1",
                  "rawType": "float64",
                  "type": "float"
                },
                {
                  "name": "y1",
                  "rawType": "float64",
                  "type": "float"
                },
                {
                  "name": "z1",
                  "rawType": "float64",
                  "type": "float"
                },
                {
                  "name": "x2",
                  "rawType": "float64",
                  "type": "float"
                },
                {
                  "name": "y2",
                  "rawType": "float64",
                  "type": "float"
                },
                {
                  "name": "z2",
                  "rawType": "float64",
                  "type": "float"
                },
                {
                  "name": "x3",
                  "rawType": "float64",
                  "type": "float"
                },
                {
                  "name": "y3",
                  "rawType": "float64",
                  "type": "float"
                },
                {
                  "name": "z3",
                  "rawType": "float64",
                  "type": "float"
                },
                {
                  "name": "x4",
                  "rawType": "float64",
                  "type": "float"
                },
                {
                  "name": "y4",
                  "rawType": "float64",
                  "type": "float"
                },
                {
                  "name": "z4",
                  "rawType": "float64",
                  "type": "float"
                },
                {
                  "name": "x5",
                  "rawType": "float64",
                  "type": "float"
                },
                {
                  "name": "y5",
                  "rawType": "float64",
                  "type": "float"
                },
                {
                  "name": "z5",
                  "rawType": "float64",
                  "type": "float"
                },
                {
                  "name": "x6",
                  "rawType": "float64",
                  "type": "float"
                },
                {
                  "name": "y6",
                  "rawType": "float64",
                  "type": "float"
                },
                {
                  "name": "z6",
                  "rawType": "float64",
                  "type": "float"
                },
                {
                  "name": "x7",
                  "rawType": "float64",
                  "type": "float"
                },
                {
                  "name": "y7",
                  "rawType": "float64",
                  "type": "float"
                },
                {
                  "name": "z7",
                  "rawType": "float64",
                  "type": "float"
                },
                {
                  "name": "x8",
                  "rawType": "float64",
                  "type": "float"
                },
                {
                  "name": "y8",
                  "rawType": "float64",
                  "type": "float"
                },
                {
                  "name": "z8",
                  "rawType": "float64",
                  "type": "float"
                },
                {
                  "name": "x9",
                  "rawType": "float64",
                  "type": "float"
                },
                {
                  "name": "y9",
                  "rawType": "float64",
                  "type": "float"
                },
                {
                  "name": "z9",
                  "rawType": "float64",
                  "type": "float"
                },
                {
                  "name": "x10",
                  "rawType": "float64",
                  "type": "float"
                },
                {
                  "name": "y10",
                  "rawType": "float64",
                  "type": "float"
                },
                {
                  "name": "z10",
                  "rawType": "float64",
                  "type": "float"
                },
                {
                  "name": "x11",
                  "rawType": "float64",
                  "type": "float"
                },
                {
                  "name": "y11",
                  "rawType": "float64",
                  "type": "float"
                },
                {
                  "name": "z11",
                  "rawType": "float64",
                  "type": "float"
                },
                {
                  "name": "x12",
                  "rawType": "float64",
                  "type": "float"
                },
                {
                  "name": "y12",
                  "rawType": "float64",
                  "type": "float"
                },
                {
                  "name": "z12",
                  "rawType": "float64",
                  "type": "float"
                },
                {
                  "name": "x13",
                  "rawType": "float64",
                  "type": "float"
                },
                {
                  "name": "y13",
                  "rawType": "float64",
                  "type": "float"
                },
                {
                  "name": "z13",
                  "rawType": "float64",
                  "type": "float"
                },
                {
                  "name": "x14",
                  "rawType": "float64",
                  "type": "float"
                },
                {
                  "name": "y14",
                  "rawType": "float64",
                  "type": "float"
                },
                {
                  "name": "z14",
                  "rawType": "float64",
                  "type": "float"
                },
                {
                  "name": "x15",
                  "rawType": "float64",
                  "type": "float"
                },
                {
                  "name": "y15",
                  "rawType": "float64",
                  "type": "float"
                },
                {
                  "name": "z15",
                  "rawType": "float64",
                  "type": "float"
                },
                {
                  "name": "x16",
                  "rawType": "float64",
                  "type": "float"
                },
                {
                  "name": "y16",
                  "rawType": "float64",
                  "type": "float"
                },
                {
                  "name": "z16",
                  "rawType": "float64",
                  "type": "float"
                },
                {
                  "name": "x17",
                  "rawType": "float64",
                  "type": "float"
                },
                {
                  "name": "y17",
                  "rawType": "float64",
                  "type": "float"
                },
                {
                  "name": "z17",
                  "rawType": "float64",
                  "type": "float"
                },
                {
                  "name": "x18",
                  "rawType": "float64",
                  "type": "float"
                },
                {
                  "name": "y18",
                  "rawType": "float64",
                  "type": "float"
                },
                {
                  "name": "z18",
                  "rawType": "float64",
                  "type": "float"
                },
                {
                  "name": "x19",
                  "rawType": "float64",
                  "type": "float"
                },
                {
                  "name": "y19",
                  "rawType": "float64",
                  "type": "float"
                },
                {
                  "name": "z19",
                  "rawType": "float64",
                  "type": "float"
                },
                {
                  "name": "x20",
                  "rawType": "float64",
                  "type": "float"
                },
                {
                  "name": "y20",
                  "rawType": "float64",
                  "type": "float"
                },
                {
                  "name": "z20",
                  "rawType": "float64",
                  "type": "float"
                },
                {
                  "name": "x21",
                  "rawType": "float64",
                  "type": "float"
                },
                {
                  "name": "y21",
                  "rawType": "float64",
                  "type": "float"
                },
                {
                  "name": "z21",
                  "rawType": "float64",
                  "type": "float"
                },
                {
                  "name": "label",
                  "rawType": "object",
                  "type": "string"
                }
              ],
              "conversionMethod": "pd.DataFrame",
              "ref": "ee7b6bb7-72a0-415b-a9ac-054880e3cce4",
              "rows": [
                [
                  "0",
                  "0.0",
                  "0.0",
                  "-3.64920452966544e-07",
                  "-0.16909686602243984",
                  "-0.3282455861225548",
                  "0.0042237476445734",
                  "-0.5082477835065398",
                  "-0.5018432132402678",
                  "0.0057977186515927",
                  "-0.8462344569614101",
                  "-0.5103073164569791",
                  "0.0058723376132547",
                  "-1.0493103007812066",
                  "-0.4300280238407",
                  "0.005235728342086",
                  "-0.790036102925219",
                  "-0.7749335981519735",
                  "0.0001538419892312",
                  "-1.1917327149947372",
                  "-0.32373352645653564",
                  "-0.0038132877089083",
                  "-1.178721919536451",
                  "-0.04631235025297909",
                  "-0.0067534446716308",
                  "-1.1110189186468735",
                  "0.09913365974109924",
                  "-0.007798527367413",
                  "-0.8302032587969179",
                  "-0.6198179765666119",
                  "-0.0049553476274013",
                  "-1.1769062883415018",
                  "-0.14784278071922885",
                  "-0.0100969513878226",
                  "-1.0700751088468177",
                  "0.10128824805848193",
                  "-0.0141078727319836",
                  "-0.9667425563462946",
                  "0.25575149999370766",
                  "-0.0168535485863685",
                  "-0.8491796996100357",
                  "-0.4181119616394351",
                  "-0.0095284366980195",
                  "-1.2091669009007817",
                  "-0.035113992915302",
                  "-0.0161939579993486",
                  "-1.1358003686133236",
                  "0.20424671961881088",
                  "-0.0207014009356498",
                  "-1.0274910413195046",
                  "0.3465566393670691",
                  "-0.0231420192867517",
                  "-0.842113917333913",
                  "-0.18024560789726884",
                  "-0.0131983514875173",
                  "-1.266026958189028",
                  "-0.058406733375178314",
                  "-0.020449724048376",
                  "-1.5332931755013546",
                  "0.026072188863832373",
                  "-0.024577360600233",
                  "-1.7598418000496805",
                  "0.07416774832613732",
                  "-0.0267223622649908",
                  "call"
                ],
                [
                  "1",
                  "0.0",
                  "0.0",
                  "-2.345265244230177e-07",
                  "-0.04061826574564472",
                  "-0.4981201438568273",
                  "-0.0111024668440222",
                  "0.19155131747687917",
                  "-0.9828692526556315",
                  "-0.0210961289703845",
                  "0.34988861245198866",
                  "-1.3437064860778691",
                  "-0.0292518995702266",
                  "0.3165379147746137",
                  "-1.6728641840016878",
                  "-0.0347433798015117",
                  "0.7116728522558536",
                  "-1.0808470541867148",
                  "-0.0223315935581922",
                  "1.2319113510110906",
                  "-0.8141431239114327",
                  "-0.0334945209324359",
                  "1.0557805446164186",
                  "-0.6873971798955356",
                  "-0.0398108325898647",
                  "0.8587617314079065",
                  "-0.7143269136615189",
                  "-0.0449897721409797",
                  "0.8344263824413151",
                  "-0.788034418613923",
                  "-0.0240378025919199",
                  "1.2275654388122859",
                  "-0.5545547736962648",
                  "-0.0324378572404384",
                  "1.0162050176062325",
                  "-0.46242756021461145",
                  "-0.0338108018040657",
                  "0.8777564856700362",
                  "-0.47910703591597115",
                  "-0.0366102159023284",
                  "0.9019419643606361",
                  "-0.4508784264247284",
                  "-0.026222463697195",
                  "1.3109956150171638",
                  "-0.3107640537903924",
                  "-0.0349423624575138",
                  "1.1514606610539135",
                  "-0.2542503619502869",
                  "-0.0300805177539587",
                  "1.002391865234034",
                  "-0.2679289568790403",
                  "-0.0275606904178857",
                  "0.9364482921878846",
                  "-0.11704651351636527",
                  "-0.0290422216057777",
                  "1.397836643220639",
                  "-0.12141229981698683",
                  "-0.0381749682128429",
                  "1.6916954384808411",
                  "-0.09195171321643435",
                  "-0.037336029112339",
                  "1.966654940328621",
                  "-0.08663544528140882",
                  "-0.0361358150839805",
                  "call"
                ],
                [
                  "2",
                  "0.0",
                  "0.0",
                  "-2.417307314317441e-07",
                  "0.17297776042597268",
                  "-0.42055386598170436",
                  "-0.0001839070610003",
                  "0.43791304956802507",
                  "-0.8209492716383214",
                  "-0.0096870781853795",
                  "0.6210063257388567",
                  "-1.1496549705513885",
                  "-0.0205798111855983",
                  "0.6066187294844505",
                  "-1.4286650063527888",
                  "-0.0294967461377382",
                  "0.8846274843710852",
                  "-0.7782299922858941",
                  "-0.0168974585831165",
                  "1.2941094205762986",
                  "-0.502357647044454",
                  "-0.0238514486700296",
                  "1.1596929363911728",
                  "-0.35537606867271126",
                  "-0.0242412202060222",
                  "0.9939737298390745",
                  "-0.34512673723309334",
                  "-0.0242147259414196",
                  "0.9391446279851223",
                  "-0.514345066810665",
                  "-0.0255326405167579",
                  "1.3004734714574662",
                  "-0.25656284648689864",
                  "-0.0298637840896844",
                  "1.1454312540886256",
                  "-0.12568476116516455",
                  "-0.0276489183306694",
                  "0.9901356670125729",
                  "-0.14011195848166316",
                  "-0.0274999178946018",
                  "0.9558300253773556",
                  "-0.20527190459709851",
                  "-0.0335840731859207",
                  "1.3210894398857316",
                  "0.005722680703993525",
                  "-0.03889786824584",
                  "1.1752795418279895",
                  "0.11327200238322108",
                  "-0.0333440937101841",
                  "1.0164650452483122",
                  "0.09587876059866583",
                  "-0.0302340798079967",
                  "0.9507801050060106",
                  "0.12010008391905978",
                  "-0.041255809366703",
                  "1.40437252518763",
                  "0.18788381219530031",
                  "-0.0440682023763656",
                  "1.6766092817340874",
                  "0.24791943588311047",
                  "-0.040469080209732",
                  "1.9138332227769208",
                  "0.2702746228923521",
                  "-0.0383005328476429",
                  "call"
                ],
                [
                  "3",
                  "0.0",
                  "0.0",
                  "-1.233261173183564e-07",
                  "-0.020056271163757196",
                  "-0.4681028628112108",
                  "-0.0028239805251359",
                  "0.070354832365706",
                  "-0.911821366534068",
                  "-0.0089114857837557",
                  "0.11479206727819437",
                  "-1.2596632400285468",
                  "-0.0150292422622442",
                  "0.07586401343121994",
                  "-1.551957357261122",
                  "-0.0195144806057214",
                  "0.627300151799718",
                  "-0.9787826377861928",
                  "-0.0104129640385508",
                  "1.0451568386489063",
                  "-0.9088231199625183",
                  "-0.0164967849850654",
                  "0.9079012044129625",
                  "-0.7988774957916427",
                  "-0.0200818590819835",
                  "0.7161818973524634",
                  "-0.779399240778299",
                  "-0.0231512710452079",
                  "0.7623395993576958",
                  "-0.701656957803201",
                  "-0.0141327064484357",
                  "1.1353128066579914",
                  "-0.6633290706556217",
                  "-0.01830898784101",
                  "0.9985781145301972",
                  "-0.5878800970728245",
                  "-0.0192280579358339",
                  "0.8473361062826219",
                  "-0.531056986574704",
                  "-0.0213867165148258",
                  "0.8420917617078426",
                  "-0.4049573065660139",
                  "-0.0178366061300039",
                  "1.2001671888315038",
                  "-0.40554583210098116",
                  "-0.0217074304819107",
                  "1.0865979288667584",
                  "-0.3504766570433344",
                  "-0.0184063632041215",
                  "0.9352860736326156",
                  "-0.3045910672566047",
                  "-0.0172914862632751",
                  "0.8692632095796493",
                  "-0.1078308126331363",
                  "-0.0218038540333509",
                  "1.280797288998923",
                  "-0.09480046925014786",
                  "-0.0276219435036182",
                  "1.5290732532384146",
                  "-0.07976267173470221",
                  "-0.0278630964457988",
                  "1.7383309446066155",
                  "-0.08669304495745661",
                  "-0.0277231764048337",
                  "call"
                ],
                [
                  "4",
                  "0.0",
                  "0.0",
                  "-1.6229952848334508e-07",
                  "-0.009610647657746307",
                  "-0.48267690094569693",
                  "-0.0028841085731983",
                  "0.1116496227893622",
                  "-1.0759143301826697",
                  "-0.0081152822822332",
                  "0.13160205846720383",
                  "-1.5075392751583085",
                  "-0.0133969103917479",
                  "-0.019465008769607623",
                  "-1.798026672352167",
                  "-0.017483277246356",
                  "0.4914962815665543",
                  "-1.0823583063148816",
                  "-0.0130078988149762",
                  "1.0716326428815846",
                  "-1.0275219774495632",
                  "-0.0198433138430118",
                  "0.9435521369345066",
                  "-0.8512361795345991",
                  "-0.0224051102995872",
                  "0.7507715879719847",
                  "-0.8089907771615",
                  "-0.0242628492414951",
                  "0.614518129962718",
                  "-0.8090557139699978",
                  "-0.0160285178571939",
                  "1.1334631737585295",
                  "-0.7536477808520953",
                  "-0.0216815918684005",
                  "0.9954577580681352",
                  "-0.6078654474624524",
                  "-0.0223501529544591",
                  "0.8150494081173554",
                  "-0.5793914586249513",
                  "-0.0237312838435173",
                  "0.7367569954415989",
                  "-0.5166244213884074",
                  "-0.018825527280569",
                  "1.2189109279336692",
                  "-0.49147463596372254",
                  "-0.0239066425710916",
                  "1.0808012926740793",
                  "-0.3786581548438758",
                  "-0.0209778733551502",
                  "0.8853233274770641",
                  "-0.35815255376030813",
                  "-0.0193230044096708",
                  "0.8515086201776608",
                  "-0.22538243442913006",
                  "-0.0216230582445859",
                  "1.3275365798383956",
                  "-0.33151082511814994",
                  "-0.025112822651863",
                  "1.6124878468781116",
                  "-0.38682095217880763",
                  "-0.0240874253213405",
                  "1.8491266628544374",
                  "-0.4641226108730523",
                  "-0.0234860554337501",
                  "call"
                ]
              ],
              "shape": {
                "columns": 64,
                "rows": 5
              }
            },
            "text/html": [
              "<div>\n",
              "<style scoped>\n",
              "    .dataframe tbody tr th:only-of-type {\n",
              "        vertical-align: middle;\n",
              "    }\n",
              "\n",
              "    .dataframe tbody tr th {\n",
              "        vertical-align: top;\n",
              "    }\n",
              "\n",
              "    .dataframe thead th {\n",
              "        text-align: right;\n",
              "    }\n",
              "</style>\n",
              "<table border=\"1\" class=\"dataframe\">\n",
              "  <thead>\n",
              "    <tr style=\"text-align: right;\">\n",
              "      <th></th>\n",
              "      <th>x1</th>\n",
              "      <th>y1</th>\n",
              "      <th>z1</th>\n",
              "      <th>x2</th>\n",
              "      <th>y2</th>\n",
              "      <th>z2</th>\n",
              "      <th>x3</th>\n",
              "      <th>y3</th>\n",
              "      <th>z3</th>\n",
              "      <th>x4</th>\n",
              "      <th>...</th>\n",
              "      <th>x19</th>\n",
              "      <th>y19</th>\n",
              "      <th>z19</th>\n",
              "      <th>x20</th>\n",
              "      <th>y20</th>\n",
              "      <th>z20</th>\n",
              "      <th>x21</th>\n",
              "      <th>y21</th>\n",
              "      <th>z21</th>\n",
              "      <th>label</th>\n",
              "    </tr>\n",
              "  </thead>\n",
              "  <tbody>\n",
              "    <tr>\n",
              "      <th>0</th>\n",
              "      <td>0.0</td>\n",
              "      <td>0.0</td>\n",
              "      <td>-3.649205e-07</td>\n",
              "      <td>-0.169097</td>\n",
              "      <td>-0.328246</td>\n",
              "      <td>0.004224</td>\n",
              "      <td>-0.508248</td>\n",
              "      <td>-0.501843</td>\n",
              "      <td>0.005798</td>\n",
              "      <td>-0.846234</td>\n",
              "      <td>...</td>\n",
              "      <td>-1.266027</td>\n",
              "      <td>-0.058407</td>\n",
              "      <td>-0.020450</td>\n",
              "      <td>-1.533293</td>\n",
              "      <td>0.026072</td>\n",
              "      <td>-0.024577</td>\n",
              "      <td>-1.759842</td>\n",
              "      <td>0.074168</td>\n",
              "      <td>-0.026722</td>\n",
              "      <td>call</td>\n",
              "    </tr>\n",
              "    <tr>\n",
              "      <th>1</th>\n",
              "      <td>0.0</td>\n",
              "      <td>0.0</td>\n",
              "      <td>-2.345265e-07</td>\n",
              "      <td>-0.040618</td>\n",
              "      <td>-0.498120</td>\n",
              "      <td>-0.011102</td>\n",
              "      <td>0.191551</td>\n",
              "      <td>-0.982869</td>\n",
              "      <td>-0.021096</td>\n",
              "      <td>0.349889</td>\n",
              "      <td>...</td>\n",
              "      <td>1.397837</td>\n",
              "      <td>-0.121412</td>\n",
              "      <td>-0.038175</td>\n",
              "      <td>1.691695</td>\n",
              "      <td>-0.091952</td>\n",
              "      <td>-0.037336</td>\n",
              "      <td>1.966655</td>\n",
              "      <td>-0.086635</td>\n",
              "      <td>-0.036136</td>\n",
              "      <td>call</td>\n",
              "    </tr>\n",
              "    <tr>\n",
              "      <th>2</th>\n",
              "      <td>0.0</td>\n",
              "      <td>0.0</td>\n",
              "      <td>-2.417307e-07</td>\n",
              "      <td>0.172978</td>\n",
              "      <td>-0.420554</td>\n",
              "      <td>-0.000184</td>\n",
              "      <td>0.437913</td>\n",
              "      <td>-0.820949</td>\n",
              "      <td>-0.009687</td>\n",
              "      <td>0.621006</td>\n",
              "      <td>...</td>\n",
              "      <td>1.404373</td>\n",
              "      <td>0.187884</td>\n",
              "      <td>-0.044068</td>\n",
              "      <td>1.676609</td>\n",
              "      <td>0.247919</td>\n",
              "      <td>-0.040469</td>\n",
              "      <td>1.913833</td>\n",
              "      <td>0.270275</td>\n",
              "      <td>-0.038301</td>\n",
              "      <td>call</td>\n",
              "    </tr>\n",
              "    <tr>\n",
              "      <th>3</th>\n",
              "      <td>0.0</td>\n",
              "      <td>0.0</td>\n",
              "      <td>-1.233261e-07</td>\n",
              "      <td>-0.020056</td>\n",
              "      <td>-0.468103</td>\n",
              "      <td>-0.002824</td>\n",
              "      <td>0.070355</td>\n",
              "      <td>-0.911821</td>\n",
              "      <td>-0.008911</td>\n",
              "      <td>0.114792</td>\n",
              "      <td>...</td>\n",
              "      <td>1.280797</td>\n",
              "      <td>-0.094800</td>\n",
              "      <td>-0.027622</td>\n",
              "      <td>1.529073</td>\n",
              "      <td>-0.079763</td>\n",
              "      <td>-0.027863</td>\n",
              "      <td>1.738331</td>\n",
              "      <td>-0.086693</td>\n",
              "      <td>-0.027723</td>\n",
              "      <td>call</td>\n",
              "    </tr>\n",
              "    <tr>\n",
              "      <th>4</th>\n",
              "      <td>0.0</td>\n",
              "      <td>0.0</td>\n",
              "      <td>-1.622995e-07</td>\n",
              "      <td>-0.009611</td>\n",
              "      <td>-0.482677</td>\n",
              "      <td>-0.002884</td>\n",
              "      <td>0.111650</td>\n",
              "      <td>-1.075914</td>\n",
              "      <td>-0.008115</td>\n",
              "      <td>0.131602</td>\n",
              "      <td>...</td>\n",
              "      <td>1.327537</td>\n",
              "      <td>-0.331511</td>\n",
              "      <td>-0.025113</td>\n",
              "      <td>1.612488</td>\n",
              "      <td>-0.386821</td>\n",
              "      <td>-0.024087</td>\n",
              "      <td>1.849127</td>\n",
              "      <td>-0.464123</td>\n",
              "      <td>-0.023486</td>\n",
              "      <td>call</td>\n",
              "    </tr>\n",
              "  </tbody>\n",
              "</table>\n",
              "<p>5 rows × 64 columns</p>\n",
              "</div>"
            ],
            "text/plain": [
              "    x1   y1            z1        x2        y2        z2        x3        y3  \\\n",
              "0  0.0  0.0 -3.649205e-07 -0.169097 -0.328246  0.004224 -0.508248 -0.501843   \n",
              "1  0.0  0.0 -2.345265e-07 -0.040618 -0.498120 -0.011102  0.191551 -0.982869   \n",
              "2  0.0  0.0 -2.417307e-07  0.172978 -0.420554 -0.000184  0.437913 -0.820949   \n",
              "3  0.0  0.0 -1.233261e-07 -0.020056 -0.468103 -0.002824  0.070355 -0.911821   \n",
              "4  0.0  0.0 -1.622995e-07 -0.009611 -0.482677 -0.002884  0.111650 -1.075914   \n",
              "\n",
              "         z3        x4  ...       x19       y19       z19       x20       y20  \\\n",
              "0  0.005798 -0.846234  ... -1.266027 -0.058407 -0.020450 -1.533293  0.026072   \n",
              "1 -0.021096  0.349889  ...  1.397837 -0.121412 -0.038175  1.691695 -0.091952   \n",
              "2 -0.009687  0.621006  ...  1.404373  0.187884 -0.044068  1.676609  0.247919   \n",
              "3 -0.008911  0.114792  ...  1.280797 -0.094800 -0.027622  1.529073 -0.079763   \n",
              "4 -0.008115  0.131602  ...  1.327537 -0.331511 -0.025113  1.612488 -0.386821   \n",
              "\n",
              "        z20       x21       y21       z21  label  \n",
              "0 -0.024577 -1.759842  0.074168 -0.026722   call  \n",
              "1 -0.037336  1.966655 -0.086635 -0.036136   call  \n",
              "2 -0.040469  1.913833  0.270275 -0.038301   call  \n",
              "3 -0.027863  1.738331 -0.086693 -0.027723   call  \n",
              "4 -0.024087  1.849127 -0.464123 -0.023486   call  \n",
              "\n",
              "[5 rows x 64 columns]"
            ]
          },
          "execution_count": 13,
          "metadata": {},
          "output_type": "execute_result"
        }
      ],
      "source": [
        "df.head()\n"
      ]
    },
    {
      "cell_type": "markdown",
      "metadata": {
        "id": "9UjHj-Gwa4hN"
      },
      "source": [
        "## 5. Label encoding the label column"
      ]
    },
    {
      "cell_type": "code",
      "execution_count": null,
      "metadata": {
        "colab": {
          "base_uri": "https://localhost:8080/"
        },
        "id": "yq34TlSCWD3V",
        "outputId": "820dd15c-0c67-459a-9ea6-eb7f76ebb9b3"
      },
      "outputs": [
        {
          "name": "stdout",
          "output_type": "stream",
          "text": [
            "{'call': 0, 'dislike': 1, 'fist': 2, 'four': 3, 'like': 4, 'mute': 5, 'ok': 6, 'one': 7, 'palm': 8, 'peace': 9, 'peace_inverted': 10, 'rock': 11, 'stop': 12, 'stop_inverted': 13, 'three': 14, 'three2': 15, 'two_up': 16, 'two_up_inverted': 17}\n"
          ]
        }
      ],
      "source": [
        "encoder = LabelEncoder()\n",
        "df['label'] = encoder.fit_transform(df['label'])\n",
        "label_mapping = {label: idx for idx, label in enumerate(encoder.classes_)}\n",
        "label_mapping = {str(key): value for key, value in label_mapping.items()}\n",
        "with open('label_mapping.json', 'w') as f:\n",
        "    json.dump(label_mapping, f)\n",
        "print(label_mapping)"
      ]
    },
    {
      "cell_type": "code",
      "execution_count": null,
      "metadata": {
        "colab": {
          "base_uri": "https://localhost:8080/"
        },
        "id": "mf6cCga9b-Wt",
        "outputId": "c0afa308-ae3c-46a8-bf1b-61c43c4cb86d"
      },
      "outputs": [
        {
          "data": {
            "text/plain": [
              "array(['call', 'dislike', 'fist', 'four', 'like', 'mute', 'ok', 'one',\n",
              "       'palm', 'peace', 'peace_inverted', 'rock', 'stop', 'stop_inverted',\n",
              "       'three', 'three2', 'two_up', 'two_up_inverted'], dtype=object)"
            ]
          },
          "execution_count": 8,
          "metadata": {},
          "output_type": "execute_result"
        }
      ],
      "source": [
        "encoder.inverse_transform(df['label'].unique())"
      ]
    },
    {
      "cell_type": "markdown",
      "metadata": {
        "id": "T5GLvTImdosO"
      },
      "source": [
        "## 6. Splitting the data"
      ]
    },
    {
      "cell_type": "code",
      "execution_count": null,
      "metadata": {
        "id": "4J_rpemwbJTd"
      },
      "outputs": [],
      "source": [
        "features = df.drop('label', axis=1)\n",
        "labels = df['label']"
      ]
    },
    {
      "cell_type": "code",
      "execution_count": null,
      "metadata": {
        "id": "oTsneduKeTQK"
      },
      "outputs": [],
      "source": [
        "features_train, features_validation_test, labels_train, labels_validation_test = train_test_split(\n",
        "    features, labels, test_size=0.4, random_state=100)\n",
        "features_validation, features_test, labels_validation, labels_test = train_test_split(\n",
        "    features_validation_test, labels_validation_test, test_size=0.5, random_state=100)"
      ]
    },
    {
      "cell_type": "code",
      "execution_count": null,
      "metadata": {
        "colab": {
          "base_uri": "https://localhost:8080/"
        },
        "id": "DdZnqT6heWJ-",
        "outputId": "e5c2f70a-2937-40f7-cb31-a056a371d7f7"
      },
      "outputs": [
        {
          "name": "stdout",
          "output_type": "stream",
          "text": [
            "15405\n",
            "5135\n",
            "5135\n",
            "15405\n",
            "5135\n",
            "5135\n"
          ]
        }
      ],
      "source": [
        "print(len(features_train))\n",
        "print(len(features_validation))\n",
        "print(len(features_test))\n",
        "print(len(labels_train))\n",
        "print(len(labels_validation))\n",
        "print(len(labels_test))"
      ]
    },
    {
      "cell_type": "markdown",
      "metadata": {
        "id": "zPH9TCcvsb4A"
      },
      "source": [
        "## 7. Training different models on the dataset and evaluating the models\n",
        "- Logistic regression (perceptron)\n",
        "- Decision tree\n",
        "- Support vector machine (SVM)\n",
        "- RandomForestClassifier\n",
        "- GradientBoostingClassifier\n",
        "- AdaBoostClassifier"
      ]
    },
    {
      "cell_type": "code",
      "execution_count": null,
      "metadata": {
        "colab": {
          "base_uri": "https://localhost:8080/"
        },
        "id": "xzwXHGNjevOM",
        "outputId": "0a482ccb-bbb3-4d86-f2e5-5896bed1e8a0"
      },
      "outputs": [
        {
          "name": "stderr",
          "output_type": "stream",
          "text": [
            "c:\\Users\\alaa6\\anaconda3\\Lib\\site-packages\\sklearn\\linear_model\\_logistic.py:469: ConvergenceWarning: lbfgs failed to converge (status=1):\n",
            "STOP: TOTAL NO. of ITERATIONS REACHED LIMIT.\n",
            "\n",
            "Increase the number of iterations (max_iter) or scale the data as shown in:\n",
            "    https://scikit-learn.org/stable/modules/preprocessing.html\n",
            "Please also refer to the documentation for alternative solver options:\n",
            "    https://scikit-learn.org/stable/modules/linear_model.html#logistic-regression\n",
            "  n_iter_i = _check_optimize_result(\n"
          ]
        }
      ],
      "source": [
        "lr_model = LogisticRegression().fit(features_train, labels_train)"
      ]
    },
    {
      "cell_type": "code",
      "execution_count": null,
      "metadata": {
        "id": "OnaSOXpktLGM"
      },
      "outputs": [],
      "source": [
        "dt_model = DecisionTreeClassifier().fit(features_train, labels_train)"
      ]
    },
    {
      "cell_type": "code",
      "execution_count": null,
      "metadata": {
        "id": "ndA5eAtFvTGa"
      },
      "outputs": [],
      "source": [
        "svm_model = SVC().fit(features_train, labels_train)"
      ]
    },
    {
      "cell_type": "code",
      "execution_count": null,
      "metadata": {
        "id": "YSn68S0ivYfb"
      },
      "outputs": [],
      "source": [
        "rf_model = RandomForestClassifier().fit(features_train, labels_train)"
      ]
    },
    {
      "cell_type": "code",
      "execution_count": null,
      "metadata": {
        "id": "KcVIcPoxvczt"
      },
      "outputs": [],
      "source": [
        "gb_model = GradientBoostingClassifier().fit(features_train, labels_train)"
      ]
    },
    {
      "cell_type": "code",
      "execution_count": null,
      "metadata": {
        "id": "RCdhmL9hvlHW",
        "outputId": "743cf85f-cf83-497a-8c5c-6b54a700b8ae"
      },
      "outputs": [
        {
          "name": "stderr",
          "output_type": "stream",
          "text": [
            "c:\\Users\\alaa6\\anaconda3\\Lib\\site-packages\\sklearn\\ensemble\\_weight_boosting.py:519: FutureWarning: The SAMME.R algorithm (the default) is deprecated and will be removed in 1.6. Use the SAMME algorithm to circumvent this warning.\n",
            "  warnings.warn(\n"
          ]
        }
      ],
      "source": [
        "ab_model = AdaBoostClassifier().fit(features_train, labels_train)"
      ]
    },
    {
      "cell_type": "markdown",
      "metadata": {
        "id": "2EMzv7eZ1nti"
      },
      "source": [
        "### Accuracy:"
      ]
    },
    {
      "cell_type": "code",
      "execution_count": null,
      "metadata": {
        "colab": {
          "base_uri": "https://localhost:8080/"
        },
        "id": "C6EgQcQFzTYA",
        "outputId": "cb70dabe-953c-4746-8ee7-5b57ebad1ab5"
      },
      "outputs": [
        {
          "name": "stdout",
          "output_type": "stream",
          "text": [
            "===========Accuracy Scores of the models===========\n",
            "Logistic regression: 0.8385589094449853\n",
            "Decision tree: 0.9466407010710808\n",
            "SVM: 0.9180136319376826\n",
            "Random forest: 0.9776046738072055\n",
            "Gradient boosting: 0.9748782862706913\n",
            "AdaBoost: 0.1851996105160662\n"
          ]
        }
      ],
      "source": [
        "print(\"===========Accuracy Scores of the models===========\")\n",
        "print(\"Logistic regression:\", lr_model.score(features_validation, labels_validation))\n",
        "print(\"Decision tree:\", dt_model.score(features_validation, labels_validation))\n",
        "print(\"SVM:\", svm_model.score(features_validation, labels_validation))\n",
        "print(\"Random forest:\", rf_model.score(features_validation, labels_validation))\n",
        "print(\"Gradient boosting:\", gb_model.score(features_validation, labels_validation))\n",
        "print(\"AdaBoost:\", ab_model.score(features_validation, labels_validation))"
      ]
    },
    {
      "cell_type": "markdown",
      "metadata": {
        "id": "wnkhEex00J75"
      },
      "source": [
        "- As we can see, random forest gives the best accuracy score"
      ]
    },
    {
      "cell_type": "markdown",
      "metadata": {
        "id": "sCu7AjqH1u3a"
      },
      "source": [
        "### F1-Score"
      ]
    },
    {
      "cell_type": "code",
      "execution_count": null,
      "metadata": {
        "colab": {
          "base_uri": "https://localhost:8080/"
        },
        "id": "9QZnheSdzfsw",
        "outputId": "b2073035-2845-4a6c-a5df-dacf88f875cf"
      },
      "outputs": [
        {
          "name": "stdout",
          "output_type": "stream",
          "text": [
            "===========F1-scores of the models:===========\n",
            "Logistic regression: 0.836106372257509\n",
            "Decision tree: 0.9467332334302095\n",
            "SVM: 0.917688345846663\n",
            "Random forest: 0.9775924165262385\n",
            "Gradient boosting: 0.9748766463317793\n",
            "AdaBoost: 0.09973064215297643\n"
          ]
        }
      ],
      "source": [
        "print(\"===========F1-scores of the models:===========\")\n",
        "lr_predicted_labels = lr_model.predict(features_validation)\n",
        "print(\"Logistic regression:\", f1_score(labels_validation, lr_predicted_labels, average='weighted'))\n",
        "dt_predicted_labels = dt_model.predict(features_validation)\n",
        "print(\"Decision tree:\", f1_score(labels_validation, dt_predicted_labels, average='weighted'))\n",
        "svm_predicted_labels = svm_model.predict(features_validation)\n",
        "print(\"SVM:\", f1_score(labels_validation, svm_predicted_labels, average='weighted'))\n",
        "rf_predicted_labels = rf_model.predict(features_validation)\n",
        "print(\"Random forest:\", f1_score(labels_validation, rf_predicted_labels, average='weighted'))\n",
        "gb_predicted_labels = gb_model.predict(features_validation)\n",
        "print(\"Gradient boosting:\", f1_score(labels_validation, gb_predicted_labels, average='weighted'))\n",
        "ab_predicted_labels = ab_model.predict(features_validation)\n",
        "print(\"AdaBoost:\", f1_score(labels_validation, ab_predicted_labels, average='weighted'))"
      ]
    },
    {
      "cell_type": "markdown",
      "metadata": {
        "id": "sr-GFhCd0YRf"
      },
      "source": [
        "- As we can see, the best F1-score is the random forest."
      ]
    },
    {
      "cell_type": "markdown",
      "metadata": {
        "id": "j-LppzxB1yVh"
      },
      "source": [
        "### Precision"
      ]
    },
    {
      "cell_type": "code",
      "execution_count": null,
      "metadata": {
        "colab": {
          "base_uri": "https://localhost:8080/"
        },
        "id": "gRjoK6Sd13lj",
        "outputId": "fa43d2c5-d673-43b7-afe1-2049d6b756c6"
      },
      "outputs": [
        {
          "name": "stdout",
          "output_type": "stream",
          "text": [
            "=========== Precision Scores of the Models ===========\n",
            "Logistic regression: 0.8396808319136294\n",
            "Decision tree: 0.9469992306274323\n",
            "SVM: 0.9196804261446018\n",
            "Random forest: 0.9777001714368722\n",
            "Gradient boosting: 0.9749947424235794\n",
            "AdaBoost: 0.16814144030120964\n"
          ]
        },
        {
          "name": "stderr",
          "output_type": "stream",
          "text": [
            "c:\\Users\\alaa6\\anaconda3\\Lib\\site-packages\\sklearn\\metrics\\_classification.py:1509: UndefinedMetricWarning: Precision is ill-defined and being set to 0.0 in labels with no predicted samples. Use `zero_division` parameter to control this behavior.\n",
            "  _warn_prf(average, modifier, f\"{metric.capitalize()} is\", len(result))\n"
          ]
        }
      ],
      "source": [
        "print(\"=========== Precision Scores of the Models ===========\")\n",
        "print(\"Logistic regression:\", precision_score(labels_validation, lr_model.predict(features_validation), average='weighted'))\n",
        "print(\"Decision tree:\", precision_score(labels_validation, dt_model.predict(features_validation), average='weighted'))\n",
        "print(\"SVM:\", precision_score(labels_validation, svm_model.predict(features_validation), average='weighted'))\n",
        "print(\"Random forest:\", precision_score(labels_validation, rf_model.predict(features_validation), average='weighted'))\n",
        "print(\"Gradient boosting:\", precision_score(labels_validation, gb_model.predict(features_validation), average='weighted'))\n",
        "print(\"AdaBoost:\", precision_score(labels_validation, ab_model.predict(features_validation), average='weighted'))"
      ]
    },
    {
      "cell_type": "markdown",
      "metadata": {
        "id": "2b_XVt9N2SqA"
      },
      "source": [
        "- As seen above, the best precision is also for the random forest"
      ]
    },
    {
      "cell_type": "markdown",
      "metadata": {
        "id": "4bbyxZCG2h1j"
      },
      "source": [
        "### Recall"
      ]
    },
    {
      "cell_type": "code",
      "execution_count": null,
      "metadata": {
        "colab": {
          "base_uri": "https://localhost:8080/"
        },
        "id": "IYVxYm_v2lZ4",
        "outputId": "475c4571-6aac-427a-e97f-ffffe320b48f"
      },
      "outputs": [
        {
          "name": "stdout",
          "output_type": "stream",
          "text": [
            "=========== Recall Scores of the Models ===========\n",
            "Logistic regression: 0.8385589094449853\n",
            "Decision tree: 0.9466407010710808\n",
            "SVM: 0.9180136319376826\n",
            "Random forest: 0.9776046738072055\n",
            "Gradient boosting: 0.9748782862706913\n",
            "AdaBoost: 0.1851996105160662\n"
          ]
        }
      ],
      "source": [
        "print(\"=========== Recall Scores of the Models ===========\")\n",
        "print(\"Logistic regression:\", recall_score(labels_validation, lr_model.predict(features_validation), average='weighted'))\n",
        "print(\"Decision tree:\", recall_score(labels_validation, dt_model.predict(features_validation), average='weighted'))\n",
        "print(\"SVM:\", recall_score(labels_validation, svm_model.predict(features_validation), average='weighted'))\n",
        "print(\"Random forest:\", recall_score(labels_validation, rf_model.predict(features_validation), average='weighted'))\n",
        "print(\"Gradient boosting:\", recall_score(labels_validation, gb_model.predict(features_validation), average='weighted'))\n",
        "print(\"AdaBoost:\", recall_score(labels_validation, ab_model.predict(features_validation), average='weighted'))"
      ]
    },
    {
      "cell_type": "markdown",
      "metadata": {
        "id": "oQqqG2va2z-d"
      },
      "source": [
        "- Finally, the best recall score is for the random forest\n",
        "- Therefore, the chosen model to work with will be ***Random Forest***"
      ]
    },
    {
      "cell_type": "markdown",
      "metadata": {
        "id": "c0gnsAnr4RX0"
      },
      "source": [
        "### To compare all results, below we will find all the metrics for the models to ensure we used the best performing model."
      ]
    },
    {
      "cell_type": "code",
      "execution_count": null,
      "metadata": {
        "colab": {
          "base_uri": "https://localhost:8080/"
        },
        "id": "aq71G8lO4hF8",
        "outputId": "54ba59ea-5fd3-4376-945a-697407b119d7"
      },
      "outputs": [
        {
          "name": "stdout",
          "output_type": "stream",
          "text": [
            "                 Model  Accuracy  Precision    Recall  F1-Score\n",
            "0  Logistic Regression  0.829990   0.830450  0.829990  0.827969\n",
            "1        Decision Tree  0.944888   0.945246  0.944888  0.944951\n",
            "2                  SVM  0.919377   0.921013  0.919377  0.919604\n",
            "3        Random Forest  0.973515   0.973624  0.973515  0.973514\n",
            "4    Gradient Boosting  0.969426   0.969598  0.969426  0.969456\n",
            "5             AdaBoost  0.181305   0.161359  0.181305  0.093284\n"
          ]
        },
        {
          "name": "stderr",
          "output_type": "stream",
          "text": [
            "c:\\Users\\alaa6\\anaconda3\\Lib\\site-packages\\sklearn\\metrics\\_classification.py:1509: UndefinedMetricWarning: Precision is ill-defined and being set to 0.0 in labels with no predicted samples. Use `zero_division` parameter to control this behavior.\n",
            "  _warn_prf(average, modifier, f\"{metric.capitalize()} is\", len(result))\n"
          ]
        }
      ],
      "source": [
        "models = {\n",
        "    \"Logistic Regression\": lr_model,\n",
        "    \"Decision Tree\": dt_model,\n",
        "    \"SVM\": svm_model,\n",
        "    \"Random Forest\": rf_model,\n",
        "    \"Gradient Boosting\": gb_model,\n",
        "    \"AdaBoost\": ab_model\n",
        "}\n",
        "\n",
        "results = []\n",
        "\n",
        "for name, model in models.items():\n",
        "    preds = model.predict(features_test)\n",
        "    results.append({\n",
        "        \"Model\": name,\n",
        "        \"Accuracy\": accuracy_score(labels_test, preds),\n",
        "        \"Precision\": precision_score(labels_test, preds, average='weighted'),\n",
        "        \"Recall\": recall_score(labels_test, preds, average='weighted'),\n",
        "        \"F1-Score\": f1_score(labels_test, preds, average='weighted')\n",
        "    })\n",
        "\n",
        "import pandas as pd\n",
        "results_df = pd.DataFrame(results)\n",
        "print(results_df)\n"
      ]
    },
    {
      "cell_type": "markdown",
      "metadata": {
        "id": "SKjPTtAv5EwC"
      },
      "source": [
        "### Bar chart comparing the models based on the accuracy and F1-Score"
      ]
    },
    {
      "cell_type": "code",
      "execution_count": null,
      "metadata": {
        "colab": {
          "base_uri": "https://localhost:8080/",
          "height": 957
        },
        "id": "O2DLD2T45Eki",
        "outputId": "f09c4480-0357-43a7-e71a-9c2588653acb"
      },
      "outputs": [
        {
          "data": {
            "image/png": "[encoded data removed]",
            "text/plain": [
              "<Figure size 1000x500 with 1 Axes>"
            ]
          },
          "metadata": {},
          "output_type": "display_data"
        },
        {
          "data": {
            "image/png": "[encoded data removed]",
            "text/plain": [
              "<Figure size 1000x500 with 1 Axes>"
            ]
          },
          "metadata": {},
          "output_type": "display_data"
        }
      ],
      "source": [
        "model_names = [\"Logistic Regression\", \"Decision Tree\", \"SVM\", \"Random Forest\", \"Gradient Boosting\", \"AdaBoost\"]\n",
        "accuracy_scores = [\n",
        "    lr_model.score(features_validation, labels_validation),\n",
        "    dt_model.score(features_validation, labels_validation),\n",
        "    svm_model.score(features_validation, labels_validation),\n",
        "    rf_model.score(features_validation, labels_validation),\n",
        "    gb_model.score(features_validation, labels_validation),\n",
        "    ab_model.score(features_validation, labels_validation)\n",
        "]\n",
        "f1_scores = [\n",
        "    f1_score(labels_validation, lr_model.predict(features_validation), average='weighted'),\n",
        "    f1_score(labels_validation, dt_model.predict(features_validation), average='weighted'),\n",
        "    f1_score(labels_validation, svm_model.predict(features_validation), average='weighted'),\n",
        "    f1_score(labels_validation, rf_model.predict(features_validation), average='weighted'),\n",
        "    f1_score(labels_validation, gb_model.predict(features_validation), average='weighted'),\n",
        "    f1_score(labels_validation, ab_model.predict(features_validation), average='weighted')\n",
        "]\n",
        "plt.figure(figsize=(10, 5))\n",
        "plt.barh(model_names, accuracy_scores, color='skyblue')\n",
        "plt.xlabel(\"Accuracy\")\n",
        "plt.title(\"Model Accuracy Comparison\")\n",
        "plt.xlim(0, 1)\n",
        "plt.show()\n",
        "plt.figure(figsize=(10, 5))\n",
        "plt.barh(model_names, f1_scores, color='lightcoral')\n",
        "plt.xlabel(\"F1 Score\")\n",
        "plt.title(\"Model F1-Score Comparison\")\n",
        "plt.xlim(0, 1)\n",
        "plt.show()"
      ]
    },
    {
      "cell_type": "markdown",
      "metadata": {
        "id": "Jv8zl4Cm6LlI"
      },
      "source": [
        "### Confusion Matrix"
      ]
    },
    {
      "cell_type": "code",
      "execution_count": null,
      "metadata": {
        "colab": {
          "base_uri": "https://localhost:8080/",
          "height": 564
        },
        "id": "z77nZ4_r6Qn6",
        "outputId": "b234dea1-42e6-4f1d-f983-0ff362a0a96a"
      },
      "outputs": [
        {
          "data": {
            "image/png": "[encoded data removed]",
            "text/plain": [
              "<Figure size 800x600 with 2 Axes>"
            ]
          },
          "metadata": {},
          "output_type": "display_data"
        }
      ],
      "source": [
        "y_pred = rf_model.predict(features_validation)\n",
        "cm = confusion_matrix(labels_validation, y_pred)\n",
        "plt.figure(figsize=(8, 6))\n",
        "sns.heatmap(cm, annot=True, fmt=\"d\", cmap=\"Blues\", xticklabels=np.unique(labels_validation), yticklabels=np.unique(labels_validation))\n",
        "plt.xlabel(\"Predicted Label\")\n",
        "plt.ylabel(\"True Label\")\n",
        "plt.title(\"Confusion Matrix - Random Forest\")\n",
        "plt.show()"
      ]
    },
    {
      "cell_type": "markdown",
      "metadata": {
        "id": "XfhLFztE0pIG"
      },
      "source": [
        "### Now, let's test on the testing data!\n"
      ]
    },
    {
      "cell_type": "code",
      "execution_count": null,
      "metadata": {
        "colab": {
          "base_uri": "https://localhost:8080/"
        },
        "id": "gI3WURO-z0Bf",
        "outputId": "67973f96-2e56-4fed-8b5b-fdb43d5071de"
      },
      "outputs": [
        {
          "name": "stdout",
          "output_type": "stream",
          "text": [
            "Accuracy of random forest on the testing data: 0.9735150925024343\n",
            "F1-score of random forest on the testing data: 0.9735138741807284\n",
            "Precision of random forest on the testing data: 0.9736238347513142\n",
            "Recall of random forest on the testing data: 0.9735150925024343\n"
          ]
        }
      ],
      "source": [
        "print(\"Accuracy of random forest on the testing data:\", rf_model.score(features_test, labels_test))\n",
        "rf_testing_labels = rf_model.predict(features_test)\n",
        "print(\"F1-score of random forest on the testing data:\", f1_score(labels_test, rf_testing_labels, average='weighted'))\n",
        "print(\"Precision of random forest on the testing data:\", precision_score(labels_test, rf_testing_labels, average='weighted'))\n",
        "print(\"Recall of random forest on the testing data:\", recall_score(labels_test, rf_testing_labels, average='weighted'))"
      ]
    },
    {
      "cell_type": "markdown",
      "metadata": {
        "id": "fodnG8Hb5x7c"
      },
      "source": [
        "## 8. Save the model"
      ]
    },
    {
      "cell_type": "code",
      "execution_count": null,
      "metadata": {
        "colab": {
          "base_uri": "https://localhost:8080/"
        },
        "id": "mD_FqLJQ3-EK",
        "outputId": "d7f5180f-5ad0-415a-9e45-e6571a12263f"
      },
      "outputs": [
        {
          "data": {
            "text/plain": [
              "['RF_model.pkl']"
            ]
          },
          "execution_count": 13,
          "metadata": {},
          "output_type": "execute_result"
        }
      ],
      "source": [
        "joblib.dump(rf_model, \"RF_model.pkl\")"
      ]
    },
    {
      "cell_type": "code",
      "execution_count": null,
      "metadata": {
        "id": "W_pVdVZYobGS"
      },
      "outputs": [],
      "source": [
        "original_columns=features.columns"
      ]
    },
    {
      "cell_type": "markdown",
      "metadata": {
        "id": "jYIw9_bj619j"
      },
      "source": [
        "## 9. Using MediaPipe to extract hand landmarks from livestream and predict gestures."
      ]
    },
    {
      "cell_type": "code",
      "execution_count": null,
      "metadata": {
        "id": "8ZF7mYV76EiF"
      },
      "outputs": [],
      "source": [
        "# Initialize mediapipe hands module\n",
        "mp_hands = mp.solutions.hands\n",
        "mp_drawing = mp.solutions.drawing_utils\n",
        "\n",
        "# Set up the webcam capture\n",
        "cap = cv2.VideoCapture(1)\n",
        "model = joblib.load('RF_model.pkl')\n",
        "# Load the label mapping from the saved JSON file\n",
        "with open('label_mapping.json', 'r') as f:\n",
        "    label_mapping = json.load(f)\n",
        "\n",
        "def normalize_landmarks(landmark):\n",
        "    # Wrist coordinates\n",
        "    x_wrist, y_wrist = landmark[0][0], landmark[0][1]\n",
        "\n",
        "    # Middle finger tip coordinates\n",
        "    x_tip, y_tip = landmark[12][0], landmark[12][1]\n",
        "\n",
        "    # Compute scale factor\n",
        "    scale = np.sqrt((x_tip - x_wrist) ** 2 + (y_tip - y_wrist) ** 2)\n",
        "    if scale == 0:\n",
        "        scale = 1\n",
        "    # Normalize all x, y coordinates\n",
        "    normalized_landmarks = [((x - x_wrist)/scale, (y - y_wrist)/scale, z) for x, y, z in landmark]\n",
        "    return normalized_landmarks\n",
        "\n",
        "# Initialize hands detection\n",
        "with mp_hands.Hands(static_image_mode=False, max_num_hands=1, min_detection_confidence=0.5) as hands:\n",
        "    predictions = []\n",
        "    window_size = 7\n",
        "    while cap.isOpened():\n",
        "        ret, frame = cap.read()\n",
        "        if not ret:\n",
        "            break\n",
        "\n",
        "        rgb_frame = cv2.cvtColor(frame, cv2.COLOR_BGR2RGB)\n",
        "        results = hands.process(rgb_frame)\n",
        "\n",
        "        # If hands are detected\n",
        "        if results.multi_hand_landmarks:\n",
        "            for hand_landmarks in results.multi_hand_landmarks:\n",
        "                # Draw landmarks on the frame\n",
        "                mp_drawing.draw_landmarks(frame, hand_landmarks, mp_hands.HAND_CONNECTIONS)\n",
        "\n",
        "                #Extract landmarks from hand\n",
        "                landmarks = [(landmark.x, landmark.y, landmark.z) for landmark in hand_landmarks.landmark]\n",
        "                normalized_landmarks = normalize_landmarks(landmarks)\n",
        "                flattened_landmarks = np.array(normalized_landmarks).flatten().reshape(1, -1)\n",
        "                df_landmarks = pd.DataFrame(flattened_landmarks, columns=original_columns)\n",
        "                # Predict the gesture\n",
        "                gesture_prediction = model.predict(df_landmarks)\n",
        "\n",
        "                # Map the predicted label back to the original label using the label mapping\n",
        "                predicted_label = encoder.inverse_transform(gesture_prediction)[0]\n",
        "                predictions.append(predicted_label)\n",
        "                if len(predictions) > window_size:\n",
        "                    predictions.pop(0)\n",
        "                prediction_mode = Counter(predictions).most_common(1)[0][0]\n",
        "                # Display the predicted gesture label\n",
        "                cv2.putText(frame, f'Gesture: {prediction_mode}', (10, 30),\n",
        "                            cv2.FONT_HERSHEY_SIMPLEX, 1, (0, 255, 0), 2, cv2.LINE_AA)\n",
        "\n",
        "        # Show the frame with landmarks and prediction\n",
        "        cv2.imshow(\"Real-Time Gesture Classification\", frame)\n",
        "\n",
        "        if cv2.waitKey(1) & 0xFF == ord('q'):\n",
        "            break\n",
        "\n",
        "# Release the webcam and close all OpenCV windows\n",
        "cap.release()\n",
        "cv2.destroyAllWindows()\n"
      ]
    }
  ],
  "metadata": {
    "colab": {
      "provenance": [],
      "include_colab_link": true
    },
    "kernelspec": {
      "display_name": "base",
      "language": "python",
      "name": "python3"
    },
    "language_info": {
      "codemirror_mode": {
        "name": "ipython",
        "version": 3
      },
      "file_extension": ".py",
      "mimetype": "text/x-python",
      "name": "python",
      "nbconvert_exporter": "python",
      "pygments_lexer": "ipython3",
      "version": "3.12.3"
    }
  },
  "nbformat": 4,
  "nbformat_minor": 0
}